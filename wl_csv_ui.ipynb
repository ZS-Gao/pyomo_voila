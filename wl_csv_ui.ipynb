{
 "cells": [
  {
   "cell_type": "code",
   "execution_count": 20,
   "metadata": {},
   "outputs": [],
   "source": [
    "import os\n",
    "import pandas as pd\n",
    "import pyomo.environ as pyo\n",
    "\n",
    "# import ipymaterialui as mui\n",
    "import ipywidgets as widgets\n",
    "from IPython.display import display\n",
    "\n",
    "# import ipyvuetify as v"
   ]
  },
  {
   "cell_type": "markdown",
   "metadata": {},
   "source": [
    "## Read the data from csv using pandas"
   ]
  },
  {
   "cell_type": "code",
   "execution_count": 30,
   "metadata": {},
   "outputs": [],
   "source": [
    "data_select = widgets.RadioButtons(\n",
    "    options=['Upload', 'Select'],\n",
    "    value='Select'\n",
    ")"
   ]
  },
  {
   "cell_type": "code",
   "execution_count": 40,
   "metadata": {},
   "outputs": [],
   "source": [
    "data_source = widgets.Dropdown(description='Data file:')\n",
    "uploader = widgets.FileUpload(\n",
    "        accept='.csv',  # Accepted file extension e.g. '.txt', '.pdf', 'image/*', 'image/*,.pdf'\n",
    "        multiple=False  # True to accept multiple files upload else False\n",
    ")"
   ]
  },
  {
   "cell_type": "code",
   "execution_count": 42,
   "metadata": {},
   "outputs": [],
   "source": [
    "def create_data_file_dd(data_source):\n",
    "    data_file_list = list()\n",
    "\n",
    "    cwd = os.getcwd()\n",
    "    for item in os.listdir(cwd):\n",
    "        if os.path.isfile(os.path.join(cwd, item)) and item.lower().endswith(\".csv\"):\n",
    "            data_file_list.append(item)\n",
    "\n",
    "    default_value = data_file_list[0] if data_file_list else None\n",
    "    \n",
    "    data_source.options = data_file_list\n",
    "    data_source.value = default_value\n",
    "\n",
    "    display(data_source)"
   ]
  },
  {
   "cell_type": "code",
   "execution_count": 43,
   "metadata": {},
   "outputs": [],
   "source": [
    "out = widgets.Output()\n",
    "\n",
    "@out.capture(clear_output=True, wait=True)\n",
    "def display_data_source(*args):\n",
    "    if data_select.value == \"Select\":\n",
    "        create_data_file_dd(data_source)\n",
    "    else:\n",
    "        display(uploader)\n"
   ]
  },
  {
   "cell_type": "code",
   "execution_count": 44,
   "metadata": {},
   "outputs": [],
   "source": [
    "display_data_source()\n",
    "data_select.observe(display_data_source, 'value')"
   ]
  },
  {
   "cell_type": "code",
   "execution_count": 45,
   "metadata": {},
   "outputs": [
    {
     "data": {
      "application/vnd.jupyter.widget-view+json": {
       "model_id": "60cd0cc933ab4970a8eaa14494c6692f",
       "version_major": 2,
       "version_minor": 0
      },
      "text/plain": [
       "HBox(children=(RadioButtons(index=1, options=('Upload', 'Select'), value='Select'), Output(outputs=({'output_t…"
      ]
     },
     "metadata": {},
     "output_type": "display_data"
    }
   ],
   "source": [
    "display(widgets.HBox([data_select, out]))"
   ]
  }
 ],
 "metadata": {
  "celltoolbar": "Tags",
  "interpreter": {
   "hash": "17cf8bf1696a9ff4f3716842980291461f287712d31f1c7a19f5f40349a053aa"
  },
  "kernelspec": {
   "display_name": "Python 3 (ipykernel)",
   "language": "python",
   "name": "python3"
  },
  "language_info": {
   "codemirror_mode": {
    "name": "ipython",
    "version": 3
   },
   "file_extension": ".py",
   "mimetype": "text/x-python",
   "name": "python",
   "nbconvert_exporter": "python",
   "pygments_lexer": "ipython3",
   "version": "3.9.10"
  }
 },
 "nbformat": 4,
 "nbformat_minor": 2
}
