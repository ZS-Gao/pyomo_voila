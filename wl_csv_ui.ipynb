{
 "cells": [
  {
   "cell_type": "markdown",
   "metadata": {},
   "source": [
    "## Document for the problem"
   ]
  },
  {
   "cell_type": "markdown",
   "metadata": {},
   "source": [
    "### The Warehouse Location Problem\n",
    "\n",
    "We use the warehouse location problem throughout this chapter, which considers\n",
    "the optimal locations to build warehouses to meet delivery demands. Let `N` be a\n",
    "set of candidate warehouse locations, and let `M` be a set of customer locations. For\n",
    "each warehouse `n`, the cost of delivering product to customer `m` is given by $ d_{n,m} $.\n",
    "We wish to determine the optimal warehouse locations that will minimize the total\n",
    "cost of product delivery. The binary variables $y_n$ are used to define whether or not a\n",
    "warehouse should be built, where $y_n$ is 1 if warehouse `n` is selected and 0 otherwise.\n",
    "The variable $x_{n,m}$ indicates the fraction of demand for customer m that is served by\n",
    "warehouse `n`.\n"
   ]
  },
  {
   "cell_type": "markdown",
   "metadata": {},
   "source": [
    "The variables `x` and `y` are determined by the optimizer, and all other quantities are\n",
    "known inputs or parameters in the problem. This problem is a particular description\n",
    "of the p-median problem, and it has the interesting property that the `x` variables will\n",
    "converge to {0, 1} even though they are not specified as binary variables.\n",
    "The complete problem formulation is:\n",
    "\n",
    "Objective:\n",
    "$$\n",
    "min \\sum_{n \\in N}{\\sum_{m \\in M}{d_{n,m}x_{n,m}}}\n",
    "$$\n",
    "\n",
    "s.t.:\n",
    "$$\n",
    "\\sum_{n \\in N}{x_{n,m}} = 1, \\forall m \\in M\n",
    "$$\n",
    "\n",
    "$$\n",
    "x_{n,m} \\leq y_n, \\forall n \\in N, m \\in M\n",
    "$$\n",
    "\n",
    "$$\n",
    "\\sum_{n \\in N}{y_n} \\leq P\n",
    "$$\n",
    "\n",
    "$$\n",
    "0 \\leq x \\leq 1\n",
    "$$\n",
    "\n",
    "$$\n",
    "y \\in {0, 1}\n",
    "$$"
   ]
  },
  {
   "cell_type": "markdown",
   "metadata": {},
   "source": [
    "Here, the objective is to minimize the total cost associated with delivering products to all the customers. Equation WL.2 ensures that each customer’s\n",
    "demand is fully met, and equation WL.3 ensures that a warehouse can deliver product to customers only if that warehouse is selected to be built. Finally, with equation WL.4 the number of warehouses that can be built is limited to `P`.\n",
    "For our example, we will assume that $P = 2$, with the following data for warehouse and customer locations,\n",
    "\n",
    "For our example, we will assume that $P = 2$, with the following data for warehouse and customer locations,\n",
    "```\n",
    "Customer locations            M = {‘NYC’, ‘LA’, ‘Chicago’, ‘Houston’}\n",
    "Candidate warehouse locations N = {‘Harlingen’, ‘Memphis’, ‘Ashland’}\n",
    "```\n",
    "with the costs $d_{n,m}$ as given in the following table:\n",
    "\n",
    "\n",
    "|           | NYC  | LA   | Chicago | Houston |\n",
    "| --------- | ---- | ---- | ------- | ------- |\n",
    "| Harlingen | 1956 | 1606 | 1410    | 330     |\n",
    "| Memphis   | 1096 | 1792 | 531     | 567     |\n",
    "| Ashland   | 485  | 2322 | 324     | 1236    |"
   ]
  },
  {
   "cell_type": "code",
   "execution_count": null,
   "metadata": {},
   "outputs": [],
   "source": []
  },
  {
   "cell_type": "code",
   "execution_count": null,
   "metadata": {},
   "outputs": [],
   "source": [
    "import os\n",
    "import pandas as pd\n",
    "import pyomo.environ as pyo\n",
    "\n",
    "# import ipymaterialui as mui\n",
    "import ipywidgets as widgets\n",
    "from IPython.display import display\n",
    "\n",
    "# import ipyvuetify as v"
   ]
  },
  {
   "cell_type": "markdown",
   "metadata": {},
   "source": [
    "## Read the data from csv using pandas\n",
    "\n",
    "---"
   ]
  },
  {
   "cell_type": "code",
   "execution_count": null,
   "metadata": {},
   "outputs": [],
   "source": [
    "data_select = widgets.RadioButtons(\n",
    "    options=['Upload', 'Select'],\n",
    "    value='Select'\n",
    ")"
   ]
  },
  {
   "cell_type": "code",
   "execution_count": null,
   "metadata": {},
   "outputs": [],
   "source": [
    "data_source = widgets.Dropdown(description='Data file:')\n",
    "uploader = widgets.FileUpload(\n",
    "        accept='.csv',  # Accepted file extension e.g. '.txt', '.pdf', 'image/*', 'image/*,.pdf'\n",
    "        multiple=False  # True to accept multiple files upload else False\n",
    ")"
   ]
  },
  {
   "cell_type": "code",
   "execution_count": null,
   "metadata": {},
   "outputs": [],
   "source": [
    "def create_data_file_dd(data_source):\n",
    "    data_file_list = list()\n",
    "\n",
    "    cwd = os.getcwd()\n",
    "    for item in os.listdir(cwd):\n",
    "        if os.path.isfile(os.path.join(cwd, item)) and item.lower().endswith(\".csv\"):\n",
    "            data_file_list.append(item)\n",
    "\n",
    "    default_value = data_file_list[0] if data_file_list else None\n",
    "    \n",
    "    data_source.options = data_file_list\n",
    "    data_source.value = default_value\n",
    "\n",
    "    display(data_source)"
   ]
  },
  {
   "cell_type": "code",
   "execution_count": null,
   "metadata": {},
   "outputs": [],
   "source": [
    "out = widgets.Output()\n",
    "\n",
    "@out.capture(clear_output=True, wait=True)\n",
    "def display_data_source(*args):\n",
    "    if data_select.value == \"Select\":\n",
    "        create_data_file_dd(data_source)\n",
    "    else:\n",
    "        display(uploader)\n"
   ]
  },
  {
   "cell_type": "code",
   "execution_count": null,
   "metadata": {},
   "outputs": [],
   "source": [
    "display_data_source()\n",
    "data_select.observe(display_data_source, 'value')"
   ]
  },
  {
   "cell_type": "code",
   "execution_count": null,
   "metadata": {},
   "outputs": [],
   "source": [
    "display(widgets.HBox([data_select, out]))"
   ]
  },
  {
   "cell_type": "code",
   "execution_count": null,
   "metadata": {},
   "outputs": [],
   "source": [
    "import io\n",
    "\n",
    "def load_data(csv_file_path) -> pd.DataFrame:\n",
    "    if data_select.value == 'Upload':\n",
    "        df = pd.read_csv(io.BytesIO(uploader.get_state()['data'][0]), index_col=0)\n",
    "    else:\n",
    "        df = pd.read_csv(csv_file_path, index_col=0)\n",
    "    return df"
   ]
  },
  {
   "cell_type": "markdown",
   "metadata": {},
   "source": [
    "### Show the data\n"
   ]
  },
  {
   "cell_type": "code",
   "execution_count": null,
   "metadata": {},
   "outputs": [],
   "source": [
    "sd_button = widgets.Button(description='Show the data')\n",
    "out_data = widgets.Output()\n",
    "\n",
    "display(sd_button, out_data)\n",
    "\n",
    "data = None\n",
    "\n",
    "def on_button_click(b):\n",
    "    global data\n",
    "    with out_data:\n",
    "        data = load_data(data_source.value)\n",
    "        print(data)\n",
    "\n",
    "sd_button.on_click(on_button_click)"
   ]
  },
  {
   "cell_type": "code",
   "execution_count": null,
   "metadata": {},
   "outputs": [],
   "source": [
    "\n",
    "def create_model(df: pd.DataFrame) -> pyo.ConcreteModel:\n",
    "    N = list(df.index.map(str))\n",
    "    M = list(df.columns.map(str))\n",
    "    d = {(r, c):df.loc[r,c] for r in N for c in M}\n",
    "    P = 2\n",
    "\n",
    "    model = pyo.ConcreteModel(name = \"(WL)\")\n",
    "    \n",
    "    model.N = pyo.Set(initialize=N)\n",
    "    model.M = pyo.Set(initialize=M)\n",
    "    model.x = pyo.Var(N, M, bounds=(0, 1))\n",
    "    model.y = pyo.Var(N, within=pyo.Binary)\n",
    "\n",
    "    def obj_rule(model):\n",
    "        return sum(d[n,m]*model.x[n,m] for n in N for m in M)\n",
    "\n",
    "    model.obj = pyo.Objective(rule=obj_rule)\n",
    "\n",
    "    def one_per_cust_rule(model, m):\n",
    "        return sum(model.x[n,m] for n in N) == 1\n",
    "\n",
    "    model.one_per_cust = pyo.Constraint(M, rule=one_per_cust_rule)\n",
    "\n",
    "    def warehouse_active_rule(model, n, m):\n",
    "        return model.x[n,m] <= model.y[n]\n",
    "\n",
    "    model.warehouse_active = pyo.Constraint(N, M, rule=warehouse_active_rule)\n",
    "\n",
    "    def num_warehouses_rule(model):\n",
    "        return sum(model.y[n] for n in N) <= P\n",
    "    model.num_warehouses = pyo.Constraint(rule=num_warehouses_rule)\n",
    "    return model"
   ]
  },
  {
   "cell_type": "markdown",
   "metadata": {},
   "source": [
    "## Create the model\n",
    "\n",
    "---"
   ]
  },
  {
   "cell_type": "code",
   "execution_count": null,
   "metadata": {},
   "outputs": [],
   "source": [
    "model = None\n",
    "\n",
    "cm_button = widgets.Button(description='Create the model')\n",
    "out_model = widgets.Output()\n",
    "\n",
    "display(cm_button, out_model)\n",
    "\n",
    "def on_m_button_click(b):\n",
    "    global model\n",
    "    global data\n",
    "    \n",
    "    if data is None:\n",
    "        data = load_data(data_source.value)\n",
    "        \n",
    "    with out_model:\n",
    "        model = create_model(data)\n",
    "        model.pprint()\n",
    "\n",
    "cm_button.on_click(on_m_button_click)"
   ]
  },
  {
   "cell_type": "markdown",
   "metadata": {},
   "source": [
    "## Solve the model\n",
    "\n",
    "---"
   ]
  },
  {
   "cell_type": "code",
   "execution_count": null,
   "metadata": {},
   "outputs": [],
   "source": [
    "sm_button = widgets.Button(description='Solve the model')\n",
    "out_res = widgets.Output()\n",
    "\n",
    "display(sm_button, out_res)\n",
    "\n",
    "def on_sm_button_click(b):\n",
    "    global model\n",
    "    global data\n",
    "    \n",
    "    if data is None:\n",
    "        data = load_data(data_source.value)\n",
    "        \n",
    "    with out_res:\n",
    "        solver = pyo.SolverFactory('glpk')\n",
    "        res = solver.solve(model)\n",
    "        \n",
    "        print(res)\n",
    "        \n",
    "        # post process\n",
    "        # produce nicely formatted output\n",
    "        for wl in model.N:\n",
    "            if pyo.value(model.y[wl]) > 0.5:\n",
    "                customers = [str(cl) for cl in model.M if pyo.value(model.x[wl, cl] > 0.5)]\n",
    "                print(f\"{wl} + serves customers: {customers}\")\n",
    "            else:\n",
    "                print(str(wl)+\": do not build\")\n",
    "\n",
    "sm_button.on_click(on_sm_button_click)"
   ]
  }
 ],
 "metadata": {
  "celltoolbar": "Tags",
  "interpreter": {
   "hash": "17cf8bf1696a9ff4f3716842980291461f287712d31f1c7a19f5f40349a053aa"
  },
  "kernelspec": {
   "display_name": "Python 3 (ipykernel)",
   "language": "python",
   "name": "python3"
  },
  "language_info": {
   "codemirror_mode": {
    "name": "ipython",
    "version": 3
   },
   "file_extension": ".py",
   "mimetype": "text/x-python",
   "name": "python",
   "nbconvert_exporter": "python",
   "pygments_lexer": "ipython3",
   "version": "3.9.10"
  }
 },
 "nbformat": 4,
 "nbformat_minor": 2
}
