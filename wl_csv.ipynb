{
 "cells": [
  {
   "cell_type": "code",
   "execution_count": 1,
   "metadata": {},
   "outputs": [],
   "source": [
    "import os\n",
    "import pandas as pd\n",
    "import pyomo.environ as pyo"
   ]
  },
  {
   "cell_type": "markdown",
   "metadata": {},
   "source": [
    "## Read the data from csv using pandas"
   ]
  },
  {
   "cell_type": "code",
   "execution_count": 2,
   "metadata": {},
   "outputs": [],
   "source": [
    "csv_file_path = \"./delivery_costs.csv\""
   ]
  },
  {
   "cell_type": "code",
   "execution_count": 3,
   "metadata": {},
   "outputs": [],
   "source": [
    "df = pd.read_csv(csv_file_path, index_col=0)"
   ]
  },
  {
   "cell_type": "code",
   "execution_count": 4,
   "metadata": {},
   "outputs": [
    {
     "data": {
      "text/html": [
       "<div>\n",
       "<style scoped>\n",
       "    .dataframe tbody tr th:only-of-type {\n",
       "        vertical-align: middle;\n",
       "    }\n",
       "\n",
       "    .dataframe tbody tr th {\n",
       "        vertical-align: top;\n",
       "    }\n",
       "\n",
       "    .dataframe thead th {\n",
       "        text-align: right;\n",
       "    }\n",
       "</style>\n",
       "<table border=\"1\" class=\"dataframe\">\n",
       "  <thead>\n",
       "    <tr style=\"text-align: right;\">\n",
       "      <th></th>\n",
       "      <th>NYC</th>\n",
       "      <th>LA</th>\n",
       "      <th>Chicago</th>\n",
       "      <th>Houston</th>\n",
       "    </tr>\n",
       "  </thead>\n",
       "  <tbody>\n",
       "    <tr>\n",
       "      <th>Harlingen</th>\n",
       "      <td>1956</td>\n",
       "      <td>1606</td>\n",
       "      <td>1410</td>\n",
       "      <td>330</td>\n",
       "    </tr>\n",
       "    <tr>\n",
       "      <th>Memphis</th>\n",
       "      <td>1906</td>\n",
       "      <td>1792</td>\n",
       "      <td>531</td>\n",
       "      <td>567</td>\n",
       "    </tr>\n",
       "    <tr>\n",
       "      <th>Ashland</th>\n",
       "      <td>485</td>\n",
       "      <td>2322</td>\n",
       "      <td>324</td>\n",
       "      <td>1236</td>\n",
       "    </tr>\n",
       "  </tbody>\n",
       "</table>\n",
       "</div>"
      ],
      "text/plain": [
       "            NYC    LA  Chicago  Houston\n",
       "Harlingen  1956  1606     1410      330\n",
       "Memphis    1906  1792      531      567\n",
       "Ashland     485  2322      324     1236"
      ]
     },
     "execution_count": 4,
     "metadata": {},
     "output_type": "execute_result"
    }
   ],
   "source": [
    "df"
   ]
  },
  {
   "cell_type": "code",
   "execution_count": 5,
   "metadata": {},
   "outputs": [],
   "source": [
    "N = list(df.index.map(str))\n",
    "M = list(df.columns.map(str))\n",
    "d = {(r, c):df.loc[r,c] for r in N for c in M}\n",
    "P = 2"
   ]
  },
  {
   "cell_type": "markdown",
   "metadata": {},
   "source": [
    "## Create the mode"
   ]
  },
  {
   "cell_type": "code",
   "execution_count": 6,
   "metadata": {},
   "outputs": [],
   "source": [
    "model = pyo.ConcreteModel(name = \"(WL)\")\n",
    "\n",
    "model.x = pyo.Var(N, M, bounds=(0, 1))\n",
    "model.y = pyo.Var(N, within=pyo.Binary)\n",
    "\n",
    "def obj_rule(model):\n",
    "    return sum(d[n,m]*model.x[n,m] for n in N for m in M)\n",
    "\n",
    "model.obj = pyo.Objective(rule=obj_rule)\n",
    "\n",
    "def one_per_cust_rule(model, m):\n",
    "    return sum(model.x[n,m] for n in N) == 1\n",
    "\n",
    "model.one_per_cust = pyo.Constraint(M, rule=one_per_cust_rule)\n",
    "\n",
    "def warehouse_active_rule(model, n, m):\n",
    "    return model.x[n,m] <= model.y[n]\n",
    "\n",
    "model.warehouse_active = pyo.Constraint(N, M, rule=warehouse_active_rule)\n",
    "\n",
    "def num_warehouses_rule(model):\n",
    "    return sum(model.y[n] for n in N) <= P\n",
    "model.num_warehouses = pyo.Constraint(rule=num_warehouses_rule)\n"
   ]
  },
  {
   "cell_type": "markdown",
   "metadata": {},
   "source": [
    "## Solve"
   ]
  },
  {
   "cell_type": "code",
   "execution_count": 7,
   "metadata": {},
   "outputs": [],
   "source": [
    "solver = pyo.SolverFactory('glpk')\n",
    "res = solver.solve(model)"
   ]
  },
  {
   "cell_type": "code",
   "execution_count": 8,
   "metadata": {},
   "outputs": [],
   "source": [
    "# model.pprint()"
   ]
  },
  {
   "cell_type": "code",
   "execution_count": 9,
   "metadata": {},
   "outputs": [
    {
     "name": "stdout",
     "output_type": "stream",
     "text": [
      "Harlingen + serves customers: ['LA', 'Houston']\n",
      "Memphis: do not build\n",
      "Ashland + serves customers: ['NYC', 'Chicago']\n"
     ]
    }
   ],
   "source": [
    "# produce nicely formatted output\n",
    "for wl in N:\n",
    "    if pyo.value(model.y[wl]) > 0.5:\n",
    "        customers = [str(cl) for cl in M if pyo.value(model.x[wl, cl] > 0.5)]\n",
    "        print(f\"{wl} + serves customers: {customers}\")\n",
    "    else:\n",
    "        print(str(wl)+\": do not build\")\n"
   ]
  }
 ],
 "metadata": {
  "interpreter": {
   "hash": "17cf8bf1696a9ff4f3716842980291461f287712d31f1c7a19f5f40349a053aa"
  },
  "kernelspec": {
   "display_name": "Python 3",
   "language": "python",
   "name": "python3"
  },
  "language_info": {
   "codemirror_mode": {
    "name": "ipython",
    "version": 3
   },
   "file_extension": ".py",
   "mimetype": "text/x-python",
   "name": "python",
   "nbconvert_exporter": "python",
   "pygments_lexer": "ipython3",
   "version": "3.8.5"
  }
 },
 "nbformat": 4,
 "nbformat_minor": 2
}
